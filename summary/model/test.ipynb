{
 "cells": [
  {
   "cell_type": "code",
   "execution_count": 1,
   "metadata": {},
   "outputs": [
    {
     "name": "stdout",
     "output_type": "stream",
     "text": [
      "'KoBART-summarization'에 복제합니다...\n",
      "remote: Enumerating objects: 142, done.\u001b[K\n",
      "remote: Counting objects: 100% (59/59), done.\u001b[K\n",
      "remote: Compressing objects: 100% (22/22), done.\u001b[K\n",
      "remote: Total 142 (delta 46), reused 37 (delta 37), pack-reused 83\u001b[K\n",
      "오브젝트를 받는 중: 100% (142/142), 37.23 MiB | 15.96 MiB/s, 완료.\n",
      "델타를 알아내는 중: 100% (76/76), 완료.\n"
     ]
    }
   ],
   "source": [
    "!git clone https://github.com/seujung/KoBART-summarization.git"
   ]
  },
  {
   "cell_type": "code",
   "execution_count": 9,
   "metadata": {},
   "outputs": [
    {
     "name": "stdout",
     "output_type": "stream",
     "text": [
      "[Errno 2] No such file or directory: 'KoBART-summarization'\n",
      "/Users/yejin/Desktop/    /Record-summary-qa-system/summary/model/KoBART-summarization\n",
      "Requirement already satisfied: pandas in /Users/yejin/miniconda3/lib/python3.8/site-packages (from -r requirements.txt (line 1)) (1.4.4)\n",
      "Collecting torch==1.10.0\n",
      "  Using cached torch-1.10.0-cp38-none-macosx_11_0_arm64.whl (44.6 MB)\n",
      "Collecting transformers==4.8.2\n",
      "  Using cached transformers-4.8.2-py3-none-any.whl (2.5 MB)\n",
      "Collecting pytorch-lightning==1.3.8\n",
      "  Using cached pytorch_lightning-1.3.8-py3-none-any.whl (813 kB)\n",
      "Collecting streamlit==1.1.0\n",
      "  Using cached streamlit-1.1.0-py2.py3-none-any.whl (8.3 MB)\n",
      "Requirement already satisfied: typing-extensions in /Users/yejin/miniconda3/lib/python3.8/site-packages (from torch==1.10.0->-r requirements.txt (line 2)) (4.4.0)\n",
      "Collecting huggingface-hub==0.0.12\n",
      "  Using cached huggingface_hub-0.0.12-py3-none-any.whl (37 kB)\n",
      "Collecting tokenizers<0.11,>=0.10.1\n",
      "  Using cached tokenizers-0.10.3.tar.gz (212 kB)\n",
      "  Installing build dependencies ... \u001b[?25ldone\n",
      "\u001b[?25h  Getting requirements to build wheel ... \u001b[?25ldone\n",
      "\u001b[?25h  Preparing metadata (pyproject.toml) ... \u001b[?25ldone\n",
      "\u001b[?25hRequirement already satisfied: regex!=2019.12.17 in /Users/yejin/miniconda3/lib/python3.8/site-packages (from transformers==4.8.2->-r requirements.txt (line 3)) (2022.9.13)\n",
      "Collecting sacremoses\n",
      "  Using cached sacremoses-0.0.53-py3-none-any.whl\n",
      "Requirement already satisfied: pyyaml in /Users/yejin/miniconda3/lib/python3.8/site-packages (from transformers==4.8.2->-r requirements.txt (line 3)) (6.0)\n",
      "Requirement already satisfied: requests in /Users/yejin/miniconda3/lib/python3.8/site-packages (from transformers==4.8.2->-r requirements.txt (line 3)) (2.28.1)\n",
      "Requirement already satisfied: packaging in /Users/yejin/miniconda3/lib/python3.8/site-packages (from transformers==4.8.2->-r requirements.txt (line 3)) (21.3)\n",
      "Requirement already satisfied: numpy>=1.17 in /Users/yejin/miniconda3/lib/python3.8/site-packages (from transformers==4.8.2->-r requirements.txt (line 3)) (1.23.3)\n",
      "Requirement already satisfied: filelock in /Users/yejin/miniconda3/lib/python3.8/site-packages (from transformers==4.8.2->-r requirements.txt (line 3)) (3.9.0)\n",
      "Requirement already satisfied: tqdm>=4.27 in /Users/yejin/miniconda3/lib/python3.8/site-packages (from transformers==4.8.2->-r requirements.txt (line 3)) (4.64.0)\n",
      "Collecting future>=0.17.1\n",
      "  Using cached future-0.18.3-py3-none-any.whl\n",
      "Collecting tensorboard!=2.5.0,>=2.2.0\n",
      "  Using cached tensorboard-2.12.0-py3-none-any.whl (5.6 MB)\n",
      "Collecting pyDeprecate==0.3.0\n",
      "  Using cached pyDeprecate-0.3.0-py3-none-any.whl (10 kB)\n",
      "Collecting pyyaml\n",
      "  Using cached PyYAML-5.4.1-cp38-cp38-macosx_11_0_arm64.whl\n",
      "Collecting torchmetrics>=0.2.0\n",
      "  Using cached torchmetrics-0.11.4-py3-none-any.whl (519 kB)\n",
      "Requirement already satisfied: fsspec[http]!=2021.06.0,>=2021.05.0 in /Users/yejin/miniconda3/lib/python3.8/site-packages (from pytorch-lightning==1.3.8->-r requirements.txt (line 4)) (2022.11.0)\n",
      "Requirement already satisfied: pillow!=8.3.0 in /Users/yejin/miniconda3/lib/python3.8/site-packages (from pytorch-lightning==1.3.8->-r requirements.txt (line 4)) (9.2.0)\n",
      "Requirement already satisfied: cachetools>=4.0 in /Users/yejin/miniconda3/lib/python3.8/site-packages (from streamlit==1.1.0->-r requirements.txt (line 5)) (5.1.0)\n",
      "Collecting astor\n",
      "  Using cached astor-0.8.1-py2.py3-none-any.whl (27 kB)\n",
      "Requirement already satisfied: blinker in /Users/yejin/miniconda3/lib/python3.8/site-packages (from streamlit==1.1.0->-r requirements.txt (line 5)) (1.4)\n",
      "Requirement already satisfied: python-dateutil in /Users/yejin/miniconda3/lib/python3.8/site-packages (from streamlit==1.1.0->-r requirements.txt (line 5)) (2.8.2)\n",
      "Collecting click<8.0,>=7.0\n",
      "  Using cached click-7.1.2-py2.py3-none-any.whl (82 kB)\n",
      "Requirement already satisfied: tzlocal in /Users/yejin/miniconda3/lib/python3.8/site-packages (from streamlit==1.1.0->-r requirements.txt (line 5)) (4.2)\n",
      "Requirement already satisfied: pydeck>=0.1.dev5 in /Users/yejin/miniconda3/lib/python3.8/site-packages (from streamlit==1.1.0->-r requirements.txt (line 5)) (0.7.1)\n",
      "Requirement already satisfied: attrs in /Users/yejin/miniconda3/lib/python3.8/site-packages (from streamlit==1.1.0->-r requirements.txt (line 5)) (22.1.0)\n",
      "Requirement already satisfied: toml in /Users/yejin/miniconda3/lib/python3.8/site-packages (from streamlit==1.1.0->-r requirements.txt (line 5)) (0.10.2)\n",
      "Requirement already satisfied: validators in /Users/yejin/miniconda3/lib/python3.8/site-packages (from streamlit==1.1.0->-r requirements.txt (line 5)) (0.19.0)\n",
      "Requirement already satisfied: tornado>=5.0 in /Users/yejin/miniconda3/lib/python3.8/site-packages (from streamlit==1.1.0->-r requirements.txt (line 5)) (6.2)\n",
      "Requirement already satisfied: altair>=3.2.0 in /Users/yejin/miniconda3/lib/python3.8/site-packages (from streamlit==1.1.0->-r requirements.txt (line 5)) (4.2.0)\n",
      "Requirement already satisfied: gitpython!=3.1.19 in /Users/yejin/miniconda3/lib/python3.8/site-packages (from streamlit==1.1.0->-r requirements.txt (line 5)) (3.1.27)\n",
      "Requirement already satisfied: protobuf!=3.11,>=3.6.0 in /Users/yejin/miniconda3/lib/python3.8/site-packages (from streamlit==1.1.0->-r requirements.txt (line 5)) (3.20.1)\n",
      "Collecting base58\n",
      "  Using cached base58-2.1.1-py3-none-any.whl (5.6 kB)\n",
      "Requirement already satisfied: pyarrow in /Users/yejin/miniconda3/lib/python3.8/site-packages (from streamlit==1.1.0->-r requirements.txt (line 5)) (8.0.0)\n",
      "Requirement already satisfied: pytz>=2020.1 in /Users/yejin/miniconda3/lib/python3.8/site-packages (from pandas->-r requirements.txt (line 1)) (2022.1)\n",
      "Requirement already satisfied: entrypoints in /Users/yejin/miniconda3/lib/python3.8/site-packages (from altair>=3.2.0->streamlit==1.1.0->-r requirements.txt (line 5)) (0.4)\n",
      "Requirement already satisfied: jsonschema>=3.0 in /Users/yejin/miniconda3/lib/python3.8/site-packages (from altair>=3.2.0->streamlit==1.1.0->-r requirements.txt (line 5)) (4.5.1)\n",
      "Requirement already satisfied: jinja2 in /Users/yejin/miniconda3/lib/python3.8/site-packages (from altair>=3.2.0->streamlit==1.1.0->-r requirements.txt (line 5)) (3.1.2)\n",
      "Requirement already satisfied: toolz in /Users/yejin/miniconda3/lib/python3.8/site-packages (from altair>=3.2.0->streamlit==1.1.0->-r requirements.txt (line 5)) (0.11.2)\n",
      "Requirement already satisfied: aiohttp!=4.0.0a0,!=4.0.0a1 in /Users/yejin/miniconda3/lib/python3.8/site-packages (from fsspec[http]!=2021.06.0,>=2021.05.0->pytorch-lightning==1.3.8->-r requirements.txt (line 4)) (3.8.3)\n",
      "Requirement already satisfied: gitdb<5,>=4.0.1 in /Users/yejin/miniconda3/lib/python3.8/site-packages (from gitpython!=3.1.19->streamlit==1.1.0->-r requirements.txt (line 5)) (4.0.9)\n",
      "Requirement already satisfied: pyparsing!=3.0.5,>=2.0.2 in /Users/yejin/miniconda3/lib/python3.8/site-packages (from packaging->transformers==4.8.2->-r requirements.txt (line 3)) (3.0.9)\n",
      "Requirement already satisfied: ipykernel>=5.1.2 in /Users/yejin/miniconda3/lib/python3.8/site-packages (from pydeck>=0.1.dev5->streamlit==1.1.0->-r requirements.txt (line 5)) (6.15.2)\n",
      "Requirement already satisfied: traitlets>=4.3.2 in /Users/yejin/miniconda3/lib/python3.8/site-packages (from pydeck>=0.1.dev5->streamlit==1.1.0->-r requirements.txt (line 5)) (5.1.1)\n",
      "Requirement already satisfied: ipywidgets>=7.0.0 in /Users/yejin/miniconda3/lib/python3.8/site-packages (from pydeck>=0.1.dev5->streamlit==1.1.0->-r requirements.txt (line 5)) (7.7.0)\n",
      "Requirement already satisfied: six>=1.5 in /Users/yejin/miniconda3/lib/python3.8/site-packages (from python-dateutil->streamlit==1.1.0->-r requirements.txt (line 5)) (1.16.0)\n",
      "Collecting markdown>=2.6.8\n",
      "  Using cached Markdown-3.4.1-py3-none-any.whl (93 kB)\n",
      "Requirement already satisfied: werkzeug>=1.0.1 in /Users/yejin/miniconda3/lib/python3.8/site-packages (from tensorboard!=2.5.0,>=2.2.0->pytorch-lightning==1.3.8->-r requirements.txt (line 4)) (2.2.2)\n",
      "Collecting tensorboard-data-server<0.8.0,>=0.7.0\n",
      "  Using cached tensorboard_data_server-0.7.0-py3-none-any.whl (2.4 kB)\n",
      "Requirement already satisfied: wheel>=0.26 in /Users/yejin/miniconda3/lib/python3.8/site-packages (from tensorboard!=2.5.0,>=2.2.0->pytorch-lightning==1.3.8->-r requirements.txt (line 4)) (0.37.1)\n",
      "Collecting google-auth-oauthlib<0.5,>=0.4.1\n",
      "  Using cached google_auth_oauthlib-0.4.6-py2.py3-none-any.whl (18 kB)\n",
      "Requirement already satisfied: setuptools>=41.0.0 in /Users/yejin/miniconda3/lib/python3.8/site-packages (from tensorboard!=2.5.0,>=2.2.0->pytorch-lightning==1.3.8->-r requirements.txt (line 4)) (63.4.1)\n",
      "Collecting tensorboard-plugin-wit>=1.6.0\n",
      "  Using cached tensorboard_plugin_wit-1.8.1-py3-none-any.whl (781 kB)\n",
      "Collecting grpcio>=1.48.2\n",
      "  Using cached grpcio-1.51.3-cp38-cp38-macosx_10_10_universal2.whl (8.2 MB)\n",
      "Collecting absl-py>=0.4\n",
      "  Using cached absl_py-1.4.0-py3-none-any.whl (126 kB)\n",
      "Collecting google-auth<3,>=1.6.3\n",
      "  Using cached google_auth-2.16.2-py2.py3-none-any.whl (177 kB)\n",
      "Requirement already satisfied: urllib3<1.27,>=1.21.1 in /Users/yejin/miniconda3/lib/python3.8/site-packages (from requests->transformers==4.8.2->-r requirements.txt (line 3)) (1.26.11)\n",
      "Requirement already satisfied: charset-normalizer<3,>=2 in /Users/yejin/miniconda3/lib/python3.8/site-packages (from requests->transformers==4.8.2->-r requirements.txt (line 3)) (2.0.4)\n",
      "Requirement already satisfied: idna<4,>=2.5 in /Users/yejin/miniconda3/lib/python3.8/site-packages (from requests->transformers==4.8.2->-r requirements.txt (line 3)) (3.3)\n",
      "Requirement already satisfied: certifi>=2017.4.17 in /Users/yejin/miniconda3/lib/python3.8/site-packages (from requests->transformers==4.8.2->-r requirements.txt (line 3)) (2022.12.7)\n",
      "Requirement already satisfied: joblib in /Users/yejin/miniconda3/lib/python3.8/site-packages (from sacremoses->transformers==4.8.2->-r requirements.txt (line 3)) (1.2.0)\n",
      "Requirement already satisfied: pytz-deprecation-shim in /Users/yejin/miniconda3/lib/python3.8/site-packages (from tzlocal->streamlit==1.1.0->-r requirements.txt (line 5)) (0.1.0.post0)\n",
      "Requirement already satisfied: backports.zoneinfo in /Users/yejin/miniconda3/lib/python3.8/site-packages (from tzlocal->streamlit==1.1.0->-r requirements.txt (line 5)) (0.2.1)\n",
      "Requirement already satisfied: decorator>=3.4.0 in /Users/yejin/miniconda3/lib/python3.8/site-packages (from validators->streamlit==1.1.0->-r requirements.txt (line 5)) (5.1.1)\n",
      "Requirement already satisfied: yarl<2.0,>=1.0 in /Users/yejin/miniconda3/lib/python3.8/site-packages (from aiohttp!=4.0.0a0,!=4.0.0a1->fsspec[http]!=2021.06.0,>=2021.05.0->pytorch-lightning==1.3.8->-r requirements.txt (line 4)) (1.8.1)\n",
      "Requirement already satisfied: multidict<7.0,>=4.5 in /Users/yejin/miniconda3/lib/python3.8/site-packages (from aiohttp!=4.0.0a0,!=4.0.0a1->fsspec[http]!=2021.06.0,>=2021.05.0->pytorch-lightning==1.3.8->-r requirements.txt (line 4)) (6.0.2)\n",
      "Requirement already satisfied: frozenlist>=1.1.1 in /Users/yejin/miniconda3/lib/python3.8/site-packages (from aiohttp!=4.0.0a0,!=4.0.0a1->fsspec[http]!=2021.06.0,>=2021.05.0->pytorch-lightning==1.3.8->-r requirements.txt (line 4)) (1.3.3)\n",
      "Requirement already satisfied: async-timeout<5.0,>=4.0.0a3 in /Users/yejin/miniconda3/lib/python3.8/site-packages (from aiohttp!=4.0.0a0,!=4.0.0a1->fsspec[http]!=2021.06.0,>=2021.05.0->pytorch-lightning==1.3.8->-r requirements.txt (line 4)) (4.0.2)\n",
      "Requirement already satisfied: aiosignal>=1.1.2 in /Users/yejin/miniconda3/lib/python3.8/site-packages (from aiohttp!=4.0.0a0,!=4.0.0a1->fsspec[http]!=2021.06.0,>=2021.05.0->pytorch-lightning==1.3.8->-r requirements.txt (line 4)) (1.2.0)\n",
      "Requirement already satisfied: smmap<6,>=3.0.1 in /Users/yejin/miniconda3/lib/python3.8/site-packages (from gitdb<5,>=4.0.1->gitpython!=3.1.19->streamlit==1.1.0->-r requirements.txt (line 5)) (5.0.0)\n",
      "Collecting rsa<5,>=3.1.4\n",
      "  Using cached rsa-4.9-py3-none-any.whl (34 kB)\n",
      "Collecting pyasn1-modules>=0.2.1\n",
      "  Using cached pyasn1_modules-0.2.8-py2.py3-none-any.whl (155 kB)\n",
      "Collecting requests-oauthlib>=0.7.0\n",
      "  Using cached requests_oauthlib-1.3.1-py2.py3-none-any.whl (23 kB)\n",
      "Requirement already satisfied: matplotlib-inline>=0.1 in /Users/yejin/miniconda3/lib/python3.8/site-packages (from ipykernel>=5.1.2->pydeck>=0.1.dev5->streamlit==1.1.0->-r requirements.txt (line 5)) (0.1.6)\n",
      "Requirement already satisfied: ipython>=7.23.1 in /Users/yejin/miniconda3/lib/python3.8/site-packages (from ipykernel>=5.1.2->pydeck>=0.1.dev5->streamlit==1.1.0->-r requirements.txt (line 5)) (8.4.0)\n",
      "Requirement already satisfied: pyzmq>=17 in /Users/yejin/miniconda3/lib/python3.8/site-packages (from ipykernel>=5.1.2->pydeck>=0.1.dev5->streamlit==1.1.0->-r requirements.txt (line 5)) (23.2.0)\n",
      "Requirement already satisfied: psutil in /Users/yejin/miniconda3/lib/python3.8/site-packages (from ipykernel>=5.1.2->pydeck>=0.1.dev5->streamlit==1.1.0->-r requirements.txt (line 5)) (5.9.0)\n",
      "Requirement already satisfied: jupyter-client>=6.1.12 in /Users/yejin/miniconda3/lib/python3.8/site-packages (from ipykernel>=5.1.2->pydeck>=0.1.dev5->streamlit==1.1.0->-r requirements.txt (line 5)) (7.3.5)\n",
      "Requirement already satisfied: appnope in /Users/yejin/miniconda3/lib/python3.8/site-packages (from ipykernel>=5.1.2->pydeck>=0.1.dev5->streamlit==1.1.0->-r requirements.txt (line 5)) (0.1.2)\n",
      "Requirement already satisfied: debugpy>=1.0 in /Users/yejin/miniconda3/lib/python3.8/site-packages (from ipykernel>=5.1.2->pydeck>=0.1.dev5->streamlit==1.1.0->-r requirements.txt (line 5)) (1.5.1)\n",
      "Requirement already satisfied: nest-asyncio in /Users/yejin/miniconda3/lib/python3.8/site-packages (from ipykernel>=5.1.2->pydeck>=0.1.dev5->streamlit==1.1.0->-r requirements.txt (line 5)) (1.5.5)\n",
      "Requirement already satisfied: ipython-genutils~=0.2.0 in /Users/yejin/miniconda3/lib/python3.8/site-packages (from ipywidgets>=7.0.0->pydeck>=0.1.dev5->streamlit==1.1.0->-r requirements.txt (line 5)) (0.2.0)\n",
      "Requirement already satisfied: jupyterlab-widgets>=1.0.0 in /Users/yejin/miniconda3/lib/python3.8/site-packages (from ipywidgets>=7.0.0->pydeck>=0.1.dev5->streamlit==1.1.0->-r requirements.txt (line 5)) (1.1.0)\n",
      "Requirement already satisfied: nbformat>=4.2.0 in /Users/yejin/miniconda3/lib/python3.8/site-packages (from ipywidgets>=7.0.0->pydeck>=0.1.dev5->streamlit==1.1.0->-r requirements.txt (line 5)) (5.4.0)\n",
      "Requirement already satisfied: widgetsnbextension~=3.6.0 in /Users/yejin/miniconda3/lib/python3.8/site-packages (from ipywidgets>=7.0.0->pydeck>=0.1.dev5->streamlit==1.1.0->-r requirements.txt (line 5)) (3.6.0)\n",
      "Requirement already satisfied: MarkupSafe>=2.0 in /Users/yejin/miniconda3/lib/python3.8/site-packages (from jinja2->altair>=3.2.0->streamlit==1.1.0->-r requirements.txt (line 5)) (2.1.1)\n",
      "Requirement already satisfied: importlib-resources>=1.4.0 in /Users/yejin/miniconda3/lib/python3.8/site-packages (from jsonschema>=3.0->altair>=3.2.0->streamlit==1.1.0->-r requirements.txt (line 5)) (5.7.1)\n",
      "Requirement already satisfied: pyrsistent!=0.17.0,!=0.17.1,!=0.17.2,>=0.14.0 in /Users/yejin/miniconda3/lib/python3.8/site-packages (from jsonschema>=3.0->altair>=3.2.0->streamlit==1.1.0->-r requirements.txt (line 5)) (0.18.1)\n",
      "Requirement already satisfied: importlib-metadata>=4.4 in /Users/yejin/miniconda3/lib/python3.8/site-packages (from markdown>=2.6.8->tensorboard!=2.5.0,>=2.2.0->pytorch-lightning==1.3.8->-r requirements.txt (line 4)) (4.11.3)\n",
      "Requirement already satisfied: tzdata in /Users/yejin/miniconda3/lib/python3.8/site-packages (from pytz-deprecation-shim->tzlocal->streamlit==1.1.0->-r requirements.txt (line 5)) (2022.1)\n",
      "Requirement already satisfied: zipp>=0.5 in /Users/yejin/miniconda3/lib/python3.8/site-packages (from importlib-metadata>=4.4->markdown>=2.6.8->tensorboard!=2.5.0,>=2.2.0->pytorch-lightning==1.3.8->-r requirements.txt (line 4)) (3.8.0)\n",
      "Requirement already satisfied: pygments>=2.4.0 in /Users/yejin/miniconda3/lib/python3.8/site-packages (from ipython>=7.23.1->ipykernel>=5.1.2->pydeck>=0.1.dev5->streamlit==1.1.0->-r requirements.txt (line 5)) (2.11.2)\n",
      "Requirement already satisfied: pexpect>4.3 in /Users/yejin/miniconda3/lib/python3.8/site-packages (from ipython>=7.23.1->ipykernel>=5.1.2->pydeck>=0.1.dev5->streamlit==1.1.0->-r requirements.txt (line 5)) (4.8.0)\n",
      "Requirement already satisfied: jedi>=0.16 in /Users/yejin/miniconda3/lib/python3.8/site-packages (from ipython>=7.23.1->ipykernel>=5.1.2->pydeck>=0.1.dev5->streamlit==1.1.0->-r requirements.txt (line 5)) (0.18.1)\n",
      "Requirement already satisfied: pickleshare in /Users/yejin/miniconda3/lib/python3.8/site-packages (from ipython>=7.23.1->ipykernel>=5.1.2->pydeck>=0.1.dev5->streamlit==1.1.0->-r requirements.txt (line 5)) (0.7.5)\n",
      "Requirement already satisfied: stack-data in /Users/yejin/miniconda3/lib/python3.8/site-packages (from ipython>=7.23.1->ipykernel>=5.1.2->pydeck>=0.1.dev5->streamlit==1.1.0->-r requirements.txt (line 5)) (0.2.0)\n",
      "Requirement already satisfied: prompt-toolkit!=3.0.0,!=3.0.1,<3.1.0,>=2.0.0 in /Users/yejin/miniconda3/lib/python3.8/site-packages (from ipython>=7.23.1->ipykernel>=5.1.2->pydeck>=0.1.dev5->streamlit==1.1.0->-r requirements.txt (line 5)) (3.0.20)\n",
      "Requirement already satisfied: backcall in /Users/yejin/miniconda3/lib/python3.8/site-packages (from ipython>=7.23.1->ipykernel>=5.1.2->pydeck>=0.1.dev5->streamlit==1.1.0->-r requirements.txt (line 5)) (0.2.0)\n",
      "Requirement already satisfied: jupyter-core>=4.9.2 in /Users/yejin/miniconda3/lib/python3.8/site-packages (from jupyter-client>=6.1.12->ipykernel>=5.1.2->pydeck>=0.1.dev5->streamlit==1.1.0->-r requirements.txt (line 5)) (4.10.0)\n",
      "Requirement already satisfied: fastjsonschema in /Users/yejin/miniconda3/lib/python3.8/site-packages (from nbformat>=4.2.0->ipywidgets>=7.0.0->pydeck>=0.1.dev5->streamlit==1.1.0->-r requirements.txt (line 5)) (2.15.3)\n",
      "Collecting pyasn1<0.5.0,>=0.4.6\n",
      "  Using cached pyasn1-0.4.8-py2.py3-none-any.whl (77 kB)\n",
      "Collecting oauthlib>=3.0.0\n",
      "  Using cached oauthlib-3.2.2-py3-none-any.whl (151 kB)\n",
      "Requirement already satisfied: notebook>=4.4.1 in /Users/yejin/miniconda3/lib/python3.8/site-packages (from widgetsnbextension~=3.6.0->ipywidgets>=7.0.0->pydeck>=0.1.dev5->streamlit==1.1.0->-r requirements.txt (line 5)) (6.4.11)\n",
      "Requirement already satisfied: parso<0.9.0,>=0.8.0 in /Users/yejin/miniconda3/lib/python3.8/site-packages (from jedi>=0.16->ipython>=7.23.1->ipykernel>=5.1.2->pydeck>=0.1.dev5->streamlit==1.1.0->-r requirements.txt (line 5)) (0.8.3)\n",
      "Requirement already satisfied: argon2-cffi in /Users/yejin/miniconda3/lib/python3.8/site-packages (from notebook>=4.4.1->widgetsnbextension~=3.6.0->ipywidgets>=7.0.0->pydeck>=0.1.dev5->streamlit==1.1.0->-r requirements.txt (line 5)) (21.3.0)\n",
      "Requirement already satisfied: Send2Trash>=1.8.0 in /Users/yejin/miniconda3/lib/python3.8/site-packages (from notebook>=4.4.1->widgetsnbextension~=3.6.0->ipywidgets>=7.0.0->pydeck>=0.1.dev5->streamlit==1.1.0->-r requirements.txt (line 5)) (1.8.0)\n",
      "Requirement already satisfied: terminado>=0.8.3 in /Users/yejin/miniconda3/lib/python3.8/site-packages (from notebook>=4.4.1->widgetsnbextension~=3.6.0->ipywidgets>=7.0.0->pydeck>=0.1.dev5->streamlit==1.1.0->-r requirements.txt (line 5)) (0.15.0)\n",
      "Requirement already satisfied: prometheus-client in /Users/yejin/miniconda3/lib/python3.8/site-packages (from notebook>=4.4.1->widgetsnbextension~=3.6.0->ipywidgets>=7.0.0->pydeck>=0.1.dev5->streamlit==1.1.0->-r requirements.txt (line 5)) (0.14.1)\n",
      "Requirement already satisfied: nbconvert>=5 in /Users/yejin/miniconda3/lib/python3.8/site-packages (from notebook>=4.4.1->widgetsnbextension~=3.6.0->ipywidgets>=7.0.0->pydeck>=0.1.dev5->streamlit==1.1.0->-r requirements.txt (line 5)) (6.5.0)\n",
      "Requirement already satisfied: ptyprocess>=0.5 in /Users/yejin/miniconda3/lib/python3.8/site-packages (from pexpect>4.3->ipython>=7.23.1->ipykernel>=5.1.2->pydeck>=0.1.dev5->streamlit==1.1.0->-r requirements.txt (line 5)) (0.7.0)\n",
      "Requirement already satisfied: wcwidth in /Users/yejin/miniconda3/lib/python3.8/site-packages (from prompt-toolkit!=3.0.0,!=3.0.1,<3.1.0,>=2.0.0->ipython>=7.23.1->ipykernel>=5.1.2->pydeck>=0.1.dev5->streamlit==1.1.0->-r requirements.txt (line 5)) (0.2.5)\n",
      "Requirement already satisfied: pure-eval in /Users/yejin/miniconda3/lib/python3.8/site-packages (from stack-data->ipython>=7.23.1->ipykernel>=5.1.2->pydeck>=0.1.dev5->streamlit==1.1.0->-r requirements.txt (line 5)) (0.2.2)\n",
      "Requirement already satisfied: executing in /Users/yejin/miniconda3/lib/python3.8/site-packages (from stack-data->ipython>=7.23.1->ipykernel>=5.1.2->pydeck>=0.1.dev5->streamlit==1.1.0->-r requirements.txt (line 5)) (0.8.3)\n",
      "Requirement already satisfied: asttokens in /Users/yejin/miniconda3/lib/python3.8/site-packages (from stack-data->ipython>=7.23.1->ipykernel>=5.1.2->pydeck>=0.1.dev5->streamlit==1.1.0->-r requirements.txt (line 5)) (2.0.5)\n",
      "Requirement already satisfied: jupyterlab-pygments in /Users/yejin/miniconda3/lib/python3.8/site-packages (from nbconvert>=5->notebook>=4.4.1->widgetsnbextension~=3.6.0->ipywidgets>=7.0.0->pydeck>=0.1.dev5->streamlit==1.1.0->-r requirements.txt (line 5)) (0.2.2)\n",
      "Requirement already satisfied: beautifulsoup4 in /Users/yejin/miniconda3/lib/python3.8/site-packages (from nbconvert>=5->notebook>=4.4.1->widgetsnbextension~=3.6.0->ipywidgets>=7.0.0->pydeck>=0.1.dev5->streamlit==1.1.0->-r requirements.txt (line 5)) (4.11.1)\n",
      "Requirement already satisfied: tinycss2 in /Users/yejin/miniconda3/lib/python3.8/site-packages (from nbconvert>=5->notebook>=4.4.1->widgetsnbextension~=3.6.0->ipywidgets>=7.0.0->pydeck>=0.1.dev5->streamlit==1.1.0->-r requirements.txt (line 5)) (1.1.1)\n",
      "Requirement already satisfied: nbclient>=0.5.0 in /Users/yejin/miniconda3/lib/python3.8/site-packages (from nbconvert>=5->notebook>=4.4.1->widgetsnbextension~=3.6.0->ipywidgets>=7.0.0->pydeck>=0.1.dev5->streamlit==1.1.0->-r requirements.txt (line 5)) (0.5.13)\n",
      "Requirement already satisfied: pandocfilters>=1.4.1 in /Users/yejin/miniconda3/lib/python3.8/site-packages (from nbconvert>=5->notebook>=4.4.1->widgetsnbextension~=3.6.0->ipywidgets>=7.0.0->pydeck>=0.1.dev5->streamlit==1.1.0->-r requirements.txt (line 5)) (1.5.0)\n",
      "Requirement already satisfied: mistune<2,>=0.8.1 in /Users/yejin/miniconda3/lib/python3.8/site-packages (from nbconvert>=5->notebook>=4.4.1->widgetsnbextension~=3.6.0->ipywidgets>=7.0.0->pydeck>=0.1.dev5->streamlit==1.1.0->-r requirements.txt (line 5)) (0.8.4)\n",
      "Requirement already satisfied: bleach in /Users/yejin/miniconda3/lib/python3.8/site-packages (from nbconvert>=5->notebook>=4.4.1->widgetsnbextension~=3.6.0->ipywidgets>=7.0.0->pydeck>=0.1.dev5->streamlit==1.1.0->-r requirements.txt (line 5)) (5.0.0)\n",
      "Requirement already satisfied: defusedxml in /Users/yejin/miniconda3/lib/python3.8/site-packages (from nbconvert>=5->notebook>=4.4.1->widgetsnbextension~=3.6.0->ipywidgets>=7.0.0->pydeck>=0.1.dev5->streamlit==1.1.0->-r requirements.txt (line 5)) (0.7.1)\n",
      "Requirement already satisfied: argon2-cffi-bindings in /Users/yejin/miniconda3/lib/python3.8/site-packages (from argon2-cffi->notebook>=4.4.1->widgetsnbextension~=3.6.0->ipywidgets>=7.0.0->pydeck>=0.1.dev5->streamlit==1.1.0->-r requirements.txt (line 5)) (21.2.0)\n",
      "Requirement already satisfied: cffi>=1.0.1 in /Users/yejin/miniconda3/lib/python3.8/site-packages (from argon2-cffi-bindings->argon2-cffi->notebook>=4.4.1->widgetsnbextension~=3.6.0->ipywidgets>=7.0.0->pydeck>=0.1.dev5->streamlit==1.1.0->-r requirements.txt (line 5)) (1.15.1)\n",
      "Requirement already satisfied: soupsieve>1.2 in /Users/yejin/miniconda3/lib/python3.8/site-packages (from beautifulsoup4->nbconvert>=5->notebook>=4.4.1->widgetsnbextension~=3.6.0->ipywidgets>=7.0.0->pydeck>=0.1.dev5->streamlit==1.1.0->-r requirements.txt (line 5)) (2.3.2.post1)\n",
      "Requirement already satisfied: webencodings in /Users/yejin/miniconda3/lib/python3.8/site-packages (from bleach->nbconvert>=5->notebook>=4.4.1->widgetsnbextension~=3.6.0->ipywidgets>=7.0.0->pydeck>=0.1.dev5->streamlit==1.1.0->-r requirements.txt (line 5)) (0.5.1)\n",
      "Requirement already satisfied: pycparser in /Users/yejin/miniconda3/lib/python3.8/site-packages (from cffi>=1.0.1->argon2-cffi-bindings->argon2-cffi->notebook>=4.4.1->widgetsnbextension~=3.6.0->ipywidgets>=7.0.0->pydeck>=0.1.dev5->streamlit==1.1.0->-r requirements.txt (line 5)) (2.21)\n",
      "Building wheels for collected packages: tokenizers\n",
      "  Building wheel for tokenizers (pyproject.toml) ... \u001b[?25ldone\n",
      "\u001b[?25h  Created wheel for tokenizers: filename=tokenizers-0.10.3-cp38-cp38-macosx_13_0_arm64.whl size=2233004 sha256=e006ebc8062243849bfed7fe6d867841beaaa63de4bf031ff44070d55d529ba2\n",
      "  Stored in directory: /Users/yejin/Library/Caches/pip/wheels/dc/c7/4b/e91f06944152159c5f222d0bda4c5bf2f40308281e627efdda\n",
      "Successfully built tokenizers\n",
      "Installing collected packages: tokenizers, tensorboard-plugin-wit, pyasn1, torch, tensorboard-data-server, rsa, pyyaml, pyDeprecate, pyasn1-modules, oauthlib, grpcio, future, click, base58, astor, absl-py, torchmetrics, sacremoses, requests-oauthlib, markdown, huggingface-hub, google-auth, transformers, google-auth-oauthlib, tensorboard, pytorch-lightning, streamlit\n",
      "  Attempting uninstall: torch\n",
      "    Found existing installation: torch 1.11.0\n",
      "    Uninstalling torch-1.11.0:\n",
      "      Successfully uninstalled torch-1.11.0\n",
      "  Attempting uninstall: pyyaml\n",
      "    Found existing installation: PyYAML 6.0\n",
      "    Uninstalling PyYAML-6.0:\n",
      "      Successfully uninstalled PyYAML-6.0\n",
      "  Attempting uninstall: click\n",
      "    Found existing installation: click 8.1.3\n",
      "    Uninstalling click-8.1.3:\n",
      "      Successfully uninstalled click-8.1.3\n",
      "  Attempting uninstall: huggingface-hub\n",
      "    Found existing installation: huggingface-hub 0.10.1\n",
      "    Uninstalling huggingface-hub-0.10.1:\n",
      "      Successfully uninstalled huggingface-hub-0.10.1\n",
      "  Attempting uninstall: streamlit\n",
      "    Found existing installation: streamlit 1.9.0\n",
      "    Uninstalling streamlit-1.9.0:\n",
      "      Successfully uninstalled streamlit-1.9.0\n",
      "\u001b[31mERROR: pip's dependency resolver does not currently take into account all the packages that are installed. This behaviour is the source of the following dependency conflicts.\n",
      "flask 2.2.2 requires click>=8.0, but you have click 7.1.2 which is incompatible.\n",
      "datasets 2.6.1 requires huggingface-hub<1.0.0,>=0.2.0, but you have huggingface-hub 0.0.12 which is incompatible.\u001b[0m\u001b[31m\n",
      "\u001b[0mSuccessfully installed absl-py-1.4.0 astor-0.8.1 base58-2.1.1 click-7.1.2 future-0.18.3 google-auth-2.16.2 google-auth-oauthlib-0.4.6 grpcio-1.51.3 huggingface-hub-0.0.12 markdown-3.4.1 oauthlib-3.2.2 pyDeprecate-0.3.0 pyasn1-0.4.8 pyasn1-modules-0.2.8 pytorch-lightning-1.3.8 pyyaml-5.4.1 requests-oauthlib-1.3.1 rsa-4.9 sacremoses-0.0.53 streamlit-1.1.0 tensorboard-2.12.0 tensorboard-data-server-0.7.0 tensorboard-plugin-wit-1.8.1 tokenizers-0.10.3 torch-1.10.0 torchmetrics-0.11.4 transformers-4.8.2\n",
      "\n",
      "\u001b[1m[\u001b[0m\u001b[34;49mnotice\u001b[0m\u001b[1;39;49m]\u001b[0m\u001b[39;49m A new release of pip available: \u001b[0m\u001b[31;49m22.3.1\u001b[0m\u001b[39;49m -> \u001b[0m\u001b[32;49m23.0.1\u001b[0m\n",
      "\u001b[1m[\u001b[0m\u001b[34;49mnotice\u001b[0m\u001b[1;39;49m]\u001b[0m\u001b[39;49m To update, run: \u001b[0m\u001b[32;49mpip install --upgrade pip\u001b[0m\n"
     ]
    }
   ],
   "source": [
    "%cd KoBART-summarization\n",
    "!pip install -r requirements.txt"
   ]
  },
  {
   "cell_type": "code",
   "execution_count": 10,
   "metadata": {},
   "outputs": [
    {
     "data": {
      "application/vnd.jupyter.widget-view+json": {
       "model_id": "8fb96e1ee6e94650bd5fbf53524126cd",
       "version_major": 2,
       "version_minor": 0
      },
      "text/plain": [
       "Downloading:   0%|          | 0.00/109 [00:00<?, ?B/s]"
      ]
     },
     "metadata": {},
     "output_type": "display_data"
    },
    {
     "data": {
      "application/vnd.jupyter.widget-view+json": {
       "model_id": "b85584f75b9e4d3eb52ea62c455bc293",
       "version_major": 2,
       "version_minor": 0
      },
      "text/plain": [
       "Downloading:   0%|          | 0.00/295 [00:00<?, ?B/s]"
      ]
     },
     "metadata": {},
     "output_type": "display_data"
    },
    {
     "data": {
      "application/vnd.jupyter.widget-view+json": {
       "model_id": "c79ee7afa73e4d4592dce5550e9ade1e",
       "version_major": 2,
       "version_minor": 0
      },
      "text/plain": [
       "Downloading:   0%|          | 0.00/682k [00:00<?, ?B/s]"
      ]
     },
     "metadata": {},
     "output_type": "display_data"
    },
    {
     "data": {
      "application/vnd.jupyter.widget-view+json": {
       "model_id": "ff0fd3c318f7482f814a9102eaaa5076",
       "version_major": 2,
       "version_minor": 0
      },
      "text/plain": [
       "Downloading:   0%|          | 0.00/1.20k [00:00<?, ?B/s]"
      ]
     },
     "metadata": {},
     "output_type": "display_data"
    },
    {
     "data": {
      "application/vnd.jupyter.widget-view+json": {
       "model_id": "4c23f3130aa44d0481e56ab0df354a72",
       "version_major": 2,
       "version_minor": 0
      },
      "text/plain": [
       "Downloading:   0%|          | 0.00/496M [00:00<?, ?B/s]"
      ]
     },
     "metadata": {},
     "output_type": "display_data"
    }
   ],
   "source": [
    "import torch\n",
    "from transformers import PreTrainedTokenizerFast\n",
    "from transformers import BartForConditionalGeneration\n",
    "\n",
    "tokenizer = PreTrainedTokenizerFast.from_pretrained('digit82/kobart-summarization')\n",
    "model = BartForConditionalGeneration.from_pretrained('digit82/kobart-summarization')"
   ]
  },
  {
   "cell_type": "code",
   "execution_count": 11,
   "metadata": {},
   "outputs": [],
   "source": [
    "text = \"\"\"\n",
    "1일 오후 9시까지 최소 20만3220명이 코로나19에 신규 확진됐다. 또다시 동시간대 최다 기록으로, 사상 처음 20만명대에 진입했다.\n",
    "방역 당국과 서울시 등 각 지방자치단체에 따르면 이날 0시부터 오후 9시까지 전국 신규 확진자는 총 20만3220명으로 집계됐다.\n",
    "국내 신규 확진자 수가 20만명대를 넘어선 것은 이번이 처음이다.\n",
    "동시간대 최다 기록은 지난 23일 오후 9시 기준 16만1389명이었는데, 이를 무려 4만1831명이나 웃돌았다. 전날 같은 시간 기록한 13만3481명보다도 6만9739명 많다.\n",
    "확진자 폭증은 3시간 전인 오후 6시 집계에서도 예견됐다.\n",
    "오후 6시까지 최소 17만8603명이 신규 확진돼 동시간대 최다 기록(24일 13만8419명)을 갈아치운 데 이어 이미 직전 0시 기준 역대 최다 기록도 넘어섰다. 역대 최다 기록은 지난 23일 0시 기준 17만1451명이었다.\n",
    "17개 지자체별로 보면 서울 4만6938명, 경기 6만7322명, 인천 1만985명 등 수도권이 12만5245명으로 전체의 61.6%를 차지했다. 서울과 경기는 모두 동시간대 기준 최다로, 처음으로 각각 4만명과 6만명을 넘어섰다.\n",
    "비수도권에서는 7만7975명(38.3%)이 발생했다. 제주를 제외한 나머지 지역에서 모두 동시간대 최다를 새로 썼다.\n",
    "부산 1만890명, 경남 9909명, 대구 6900명, 경북 6977명, 충남 5900명, 대전 5292명, 전북 5150명, 울산 5141명, 광주 5130명, 전남 4996명, 강원 4932명, 충북 3845명, 제주 1513명, 세종 1400명이다.\n",
    "집계를 마감하는 자정까지 시간이 남아있는 만큼 2일 0시 기준으로 발표될 신규 확진자 수는 이보다 더 늘어날 수 있다. 이에 따라 최종 집계되는 확진자 수는 21만명 안팎을 기록할 수 있을 전망이다.\n",
    "한편 전날 하루 선별진료소에서 이뤄진 검사는 70만8763건으로 검사 양성률은 40.5%다. 양성률이 40%를 넘은 것은 이번이 처음이다. 확산세가 계속 거세질 수 있다는 얘기다.\n",
    "이날 0시 기준 신규 확진자는 13만8993명이었다. 이틀 연속 13만명대를 이어갔다.\n",
    "\"\"\"\n",
    "\n",
    "text = text.replace('\\n', ' ')"
   ]
  },
  {
   "cell_type": "code",
   "execution_count": 26,
   "metadata": {},
   "outputs": [],
   "source": [
    "text = \"\"\"\n",
    "회담의 최대 쟁점, 역시 정부의 강제징용 배상 해법입니다.\n",
    "\n",
    "'제3자 변제'를 골자로 하는 우리의 징용해법에 기시다 총리는 동의의 뜻을 나타낼 거라고 현지 언론들은 보도했는데, 단순한 동의를 넘어 식민지배에 대한 사죄나 반성의 메시지를 낼지, 아니면 과거 내각의 그런 담화를 계승하는 선에서 그칠지가 우리의 관전 포인트입니다.\n",
    "\n",
    "일본 측은 이번 회담에서 지소미아나 그동안 중단된 양국 안보대화를 복원하자고 할 걸로 보입니다.\n",
    "\n",
    "또 경제 협력을 위한 경제안보 대화 같은 것도 논의될 수 있습니다.\n",
    "\n",
    "양국 셔틀외교 복원도 공식화할 거 같습니다.\n",
    "\n",
    "회담이 끝나면 간단한 공동 기자회견이 예정돼있습니다.\n",
    "\n",
    "대신 공동선언문 발표는 없습니다.\n",
    "\n",
    "10년 넘게, 또 지난 정권에서 급격히 악화된 양국 관계가 한 번의 회담으로 정리될 순 없다는 게 대통령실 설명입니다.\n",
    "\n",
    "하지만 이게 첫 시작인 만큼, 앞으로 협의체를 만들어 공동선언 준비 작업을 할 걸로 보입니다.\n",
    "\n",
    "이와 함께 오늘 북한이 미사일 도발에 나선 만큼, 두 정상의 대북 메시지가 나올지도 관심이 쏠립니다.\n",
    "\n",
    "윤 대통령은 오늘 출국 전 잠시 국가안전보장회의, NSC에 참석한 데 이어, 이곳 도쿄에 도착해선 곧바로 임시 상황실을 차리고 상황을 주시하고 있습니다.\n",
    "\n",
    "\"\"\"\n",
    "\n",
    "text = text.replace('\\n', ' ')"
   ]
  },
  {
   "cell_type": "code",
   "execution_count": 35,
   "metadata": {},
   "outputs": [],
   "source": [
    "text = \"\"\"\n",
    "내가 가진 부족함은 나의 부족한 부분을 채우기 위해 노력하지 않은 것이다. 나는 나를 잘 알고 있다. 그래서 나 자신을 사랑하고 있는지도 모른다.\n",
    "\n",
    "나만의 길을 가는 것은 나의 삶을 더 풍요롭게 만드는 방법이다. 내가 원하는 방향으로 가고 싶다면 지금부터라도 꾸준히 노력하면 된다. 그리고 그 과정에서 내 삶의 방향성도 점검해볼 필요가 있다. 나는 어떤 선택을 할 것인가?나는 무엇을 해야 하는가!\n",
    "\n",
    "나의 삶은 무엇인가. 나는 왜 이 글을 쓰고 있는 것일까, 내가 원하는 것은 무엇인지, 그리고 어떤 삶을 살고 싶은지? 내 삶의 의미와 가치는 무엇인지 고민해보고자 한다. 내 삶의 의미는 무엇일까. 나는 어떤 삶을 살고 있을까? 내가 원하는 삶, 나를 위한 삶이 무엇인지, 나에게 주어진 삶은 무엇인지 고민해 보았다. 그 고민은 나만의 것이었다.\n",
    "\n",
    "고민 끝에 내린 내 삶의 결론은, 내가 원하는 삶을 살기 위해선 나를 위한 선택을 해야 한다는 것이다. 나는 지금 이 순간에도 여전히 나의 선택에 대한 고민을 하고 있다. 그리고 그 과정에서 어떤 결과가 나오더라도 나 스스로에게 더 나은 사람이 되기 위해서 노력할 뿐이다. 그래서 오늘도 난 이렇게 생각한다. 나에게 주어진 시간을 온전히 내어주고 싶다. 하지만 지금의 삶이 내게 너무 힘들고 고통스럽다면, 이제 그만 좀 쉬어보자. 그렇게 하루하루를 버티며 살아가다 보면 언젠가 또 다른 멋진 날이 올 거라 생각한다. 그리고 그 순간, 내가 다시 한번 더 도전하고 싶다. 내 인생에서 가장 중요한 것은 바로 나 자신이다. 나는 나를 사랑할 줄 아는 사람이고, 나의 삶을 사랑하는 사람이며, 그게 바로 나 자신이라는 것을. 나는 이 글을 쓰고 있는 내내, 내가 나를 사랑하고 있다는 사실을 깨달았다. 그리고 내 마음속에 숨어 있던 두려움과 불안에 대해 다시 한번 깨닫게 되었다.\n",
    "\n",
    "하지만 불안함은 이내 없어졌다. 나는 그 두려움을 이겨내려고 노력했다. 그리고 내가 할 수 있는 일을 했다. 내 삶에 대한 자신감도 생겼다. 나를 믿고 의지하는 것만으로도 충분히 감사하다.\n",
    "\n",
    "내 삶이 가진 가치는 무엇일까. 나는 어떤 삶을 살고 있을까? 내가 원하는 삶, 나를 위한 삶은 무엇일지 생각해 본다. 나의 꿈과 가치를 찾아가는 여정을 시작했다. 그 과정에서 많은 것을 깨닫고 깨달았다. 나만의 길을 찾다 보니 어느새 나도 모르게 나에게 맞는 일을 찾고 있었다. 그래서 더 이상 고민하지 않아도 될 것 같았던 일이 있다. 바로 지금 이 순간이었다. 그리고 난 다시 도전할 수 있는 기회를 얻었다. 그렇게 내게 주어진 시간을 온전히 가지고 새로운 도전을 시작할 준비를 했다. 그런데 막상 시도해보면 실패를 거듭하는 경우가 많기에 이번에도 잘 해낼 것이라는 확신이 들기는커녕 오히려 걱정이 앞섰던 것이다.\n",
    "\n",
    "하지만 걱정도 잠시, 불안감도 사라졌다. 뭔가 새로운 것이 생겼다는 느낌이 들었다. 내가 좋아하는 것들을 찾아냈을 때 내 머릿속은 이미 무언가를 찾고 있었다.\n",
    "\n",
    "내가 찾고 있던 것은 바로 이 순간이었다. 나는 그 순간을 놓치지 않기 위해 노력했다. 그리고 내 안에 있는 것들을 하나씩 깨워나갔다. 지금껏 해온 모든 일들이 나를 괴롭혔고, 나의 성장을 방해하는 것만 같았다. 하지만 이제부터는 나만의 길을 가겠다고 다짐한다. 그래야 나에게 주어진 시간 동안 할 수 있다는 것을, 그래서 더 열심히 살아야겠다는 생각을 했다. 그렇게 하루하루를 버티고 버텼던 날들. 이제는 조금만 지나면 나도 모르게 무언가를 이룰 것 같은 기분마저 들었다. 그런데 어느새 시간이 지나자 다시 생각나는 것이 있었다. 그것은 새로운 시작을 의미했고, 또 앞으로도 계속할 것이라는 사실이다. 그러니 지금의 시간을 잘 보내면 언젠가 내게 좋은 일이 일어날 것이다. 깨달음을 얻는다는 것은 아마 내가 원하는 것이 아닐까. 나는 지금 이 순간, 내 안에 있는 것들을 더 깊이 들여다보고 싶다. 그리고 그 안에서 나를 찾는 것이다. 그래서 오늘도 나의 모든 것을 내려놓고 나만의 시간을 가꾼다.\n",
    "\n",
    "내가 원하는 것은 무엇인가?라는 질문에 대한 답을 찾기 위해 고민했다. 나는 왜 이 질문을 해야 하는가. 답은 무엇일까? 대답을 하기 위해서는 먼저 자신의 생각을 정리해야 한다. 그리고 그 생각들을 글로 써 내려가기 위해서 나의 머릿속에 떠오르는 생각이 무엇인지 생각해보아야한다. 그래야 내 마음속 수많은 상념들이 하나씩 깨어나는 것을 느낄 수 있다.\n",
    "\"\"\"\n",
    "text = text.replace('\\n', ' ')"
   ]
  },
  {
   "cell_type": "code",
   "execution_count": 36,
   "metadata": {},
   "outputs": [
    {
     "data": {
      "text/plain": [
       "2158"
      ]
     },
     "execution_count": 36,
     "metadata": {},
     "output_type": "execute_result"
    }
   ],
   "source": [
    "len(text)"
   ]
  },
  {
   "cell_type": "code",
   "execution_count": 37,
   "metadata": {},
   "outputs": [
    {
     "name": "stdout",
     "output_type": "stream",
     "text": [
      "나의 부족한 부족한 부분을 채우기 위해 노력하지 않은 나의 부족함을 채워주기 위해 노력하는 것은 나의 삶을 더 풍요롭게 만드는 방법이다.\n"
     ]
    }
   ],
   "source": [
    "raw_input_ids = tokenizer.encode(text)\n",
    "input_ids = [tokenizer.bos_token_id] + raw_input_ids + [tokenizer.eos_token_id]\n",
    "\n",
    "summary_ids = model.generate(torch.tensor([input_ids]),  num_beams=4,  max_length=4000,  eos_token_id=1)\n",
    "summary = tokenizer.decode(summary_ids.squeeze().tolist(), skip_special_tokens=True)\n",
    "\n",
    "print(summary)\n",
    "\n",
    "# '1일 0 9시까지 최소 20만3220명이 코로나19에 신규 확진되어 역대 최다 기록을 갈아치웠다.'\n",
    "# 이번 회담의 최대 쟁점은 정부의 강제징용 배상 해법인데, 기시다 총리가 동의의 뜻을 나타낼지, \n",
    "# 아니면 과거 내각의 그런 담화를 계승하는 선에서 그칠지가 우리의 관전 포인트이다."
   ]
  },
  {
   "cell_type": "code",
   "execution_count": null,
   "metadata": {},
   "outputs": [],
   "source": []
  }
 ],
 "metadata": {
  "kernelspec": {
   "display_name": "base",
   "language": "python",
   "name": "python3"
  },
  "language_info": {
   "codemirror_mode": {
    "name": "ipython",
    "version": 3
   },
   "file_extension": ".py",
   "mimetype": "text/x-python",
   "name": "python",
   "nbconvert_exporter": "python",
   "pygments_lexer": "ipython3",
   "version": "3.8.13"
  },
  "orig_nbformat": 4
 },
 "nbformat": 4,
 "nbformat_minor": 2
}
